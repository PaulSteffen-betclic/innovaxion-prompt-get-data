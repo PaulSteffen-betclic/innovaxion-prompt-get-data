{
 "cells": [
  {
   "cell_type": "code",
   "execution_count": 119,
   "metadata": {
    "collapsed": true,
    "ExecuteTime": {
     "end_time": "2023-10-11T15:04:16.853542Z",
     "start_time": "2023-10-11T15:04:16.848527Z"
    }
   },
   "outputs": [],
   "source": [
    "import pandas as pd\n",
    "import random\n",
    "from snowflake.connector.pandas_tools import pd_writer\n",
    "from sqlalchemy import create_engine\n",
    "from datetime import timedelta"
   ]
  },
  {
   "cell_type": "code",
   "execution_count": 238,
   "outputs": [],
   "source": [
    "items_df = pd.read_csv(\"data/season-1819.csv\")"
   ],
   "metadata": {
    "collapsed": false,
    "ExecuteTime": {
     "end_time": "2023-10-11T16:00:49.173520Z",
     "start_time": "2023-10-11T16:00:49.160261Z"
    }
   }
  },
  {
   "cell_type": "code",
   "execution_count": 239,
   "outputs": [],
   "source": [
    "items_df[\"MatchName\"] = items_df[\"HomeTeam\"] + \" - \" + items_df[\"AwayTeam\"]"
   ],
   "metadata": {
    "collapsed": false,
    "ExecuteTime": {
     "end_time": "2023-10-11T16:00:49.241683Z",
     "start_time": "2023-10-11T16:00:49.233875Z"
    }
   }
  },
  {
   "cell_type": "code",
   "execution_count": 240,
   "outputs": [],
   "source": [
    "items_df.index = items_df.index.rename(\"MatchId\")\n",
    "items_df = items_df.reset_index()"
   ],
   "metadata": {
    "collapsed": false,
    "ExecuteTime": {
     "end_time": "2023-10-11T16:00:49.633506Z",
     "start_time": "2023-10-11T16:00:49.628379Z"
    }
   }
  },
  {
   "cell_type": "code",
   "execution_count": 241,
   "outputs": [],
   "source": [
    "items_df[\"Hour\"] = random.choices(range(15, 22), k=len(items_df))\n",
    "items_df[\"Datetime\"] = pd.to_datetime(items_df[\"Date\"], format='%d/%m/%Y').astype(str) + \" \" + items_df[\"Hour\"].astype(str) +\":00:00\"\n",
    "\n",
    "items_df[\"Datetime\"] = pd.to_datetime(items_df[\"Datetime\"])"
   ],
   "metadata": {
    "collapsed": false,
    "ExecuteTime": {
     "end_time": "2023-10-11T16:00:49.728705Z",
     "start_time": "2023-10-11T16:00:49.721167Z"
    }
   }
  },
  {
   "cell_type": "code",
   "execution_count": 242,
   "outputs": [],
   "source": [
    "SELECTED_FEATURES: list[str] = ['MATCHID',\n",
    " 'DIV',\n",
    " 'DATETIME',\n",
    " 'MATCHNAME',\n",
    " 'FTHG',\n",
    " 'FTAG',\n",
    " 'FTR',\n",
    " 'B365H',\n",
    " 'B365A',\n",
    " 'B365D']"
   ],
   "metadata": {
    "collapsed": false,
    "ExecuteTime": {
     "end_time": "2023-10-11T16:00:49.949543Z",
     "start_time": "2023-10-11T16:00:49.924454Z"
    }
   }
  },
  {
   "cell_type": "code",
   "execution_count": 243,
   "outputs": [],
   "source": [
    "items_id = items_df[\"MatchId\"].unique().tolist()\n",
    "users_id = random.sample(range(0, 1_000_000), 100_000)"
   ],
   "metadata": {
    "collapsed": false,
    "ExecuteTime": {
     "end_time": "2023-10-11T16:00:50.205986Z",
     "start_time": "2023-10-11T16:00:50.164050Z"
    }
   }
  },
  {
   "cell_type": "code",
   "execution_count": 244,
   "outputs": [],
   "source": [
    "interactions = list(zip([random.choice(users_id)for i in range(1_000_000)], [random.choice(items_id) for i in range(1_000_000)]))"
   ],
   "metadata": {
    "collapsed": false,
    "ExecuteTime": {
     "end_time": "2023-10-11T16:00:51.886878Z",
     "start_time": "2023-10-11T16:00:50.517810Z"
    }
   }
  },
  {
   "cell_type": "code",
   "execution_count": 245,
   "outputs": [],
   "source": [
    "interactions_df = pd.DataFrame(interactions, columns=[\"UserId\", \"MatchId\"])"
   ],
   "metadata": {
    "collapsed": false,
    "ExecuteTime": {
     "end_time": "2023-10-11T16:00:52.488224Z",
     "start_time": "2023-10-11T16:00:51.887747Z"
    }
   }
  },
  {
   "cell_type": "code",
   "execution_count": 246,
   "outputs": [],
   "source": [
    "interactions_df = interactions_df.merge(items_df[[\"MatchId\", \"Datetime\"]], on=\"MatchId\").rename(columns={\"Datetime\": \"MaxDatetime\"})"
   ],
   "metadata": {
    "collapsed": false,
    "ExecuteTime": {
     "end_time": "2023-10-11T16:00:52.618292Z",
     "start_time": "2023-10-11T16:00:52.431233Z"
    }
   }
  },
  {
   "cell_type": "code",
   "execution_count": 247,
   "outputs": [],
   "source": [
    "interactions_df[\"Datetime\"] = interactions_df[\"MaxDatetime\"] - pd.to_timedelta(random.choices(range(6*24*60*60), k=len(interactions_df)), 's')"
   ],
   "metadata": {
    "collapsed": false,
    "ExecuteTime": {
     "end_time": "2023-10-11T16:00:55.218007Z",
     "start_time": "2023-10-11T16:00:52.547926Z"
    }
   }
  },
  {
   "cell_type": "code",
   "execution_count": 248,
   "outputs": [],
   "source": [
    "interactions_df[\"BetAmount\"] = random.choices(range(1, 1000), k=len(interactions_df))"
   ],
   "metadata": {
    "collapsed": false,
    "ExecuteTime": {
     "end_time": "2023-10-11T16:00:55.593338Z",
     "start_time": "2023-10-11T16:00:55.204177Z"
    }
   }
  },
  {
   "cell_type": "code",
   "execution_count": 249,
   "outputs": [],
   "source": [
    "interactions_df[\"Selection\"] = random.choices([\"Home\", \"Away\", \"Draw\"], k=len(interactions_df))"
   ],
   "metadata": {
    "collapsed": false,
    "ExecuteTime": {
     "end_time": "2023-10-11T16:00:59.142061Z",
     "start_time": "2023-10-11T16:00:59.020565Z"
    }
   }
  },
  {
   "cell_type": "code",
   "execution_count": 250,
   "outputs": [
    {
     "data": {
      "text/plain": "        UserId  MatchId            Datetime  BetAmount Selection\n0       750373       65 2018-09-26 08:50:09        362      Away\n1       471957       65 2018-09-23 15:11:58        385      Home\n2       332842       65 2018-09-26 14:52:21        695      Home\n3       508195       65 2018-09-22 06:17:37        994      Home\n4       995122       65 2018-09-25 13:52:49        599      Home\n...        ...      ...                 ...        ...       ...\n999995  675271      334 2019-04-25 18:58:56          3      Draw\n999996   43729      334 2019-04-24 09:16:31        179      Away\n999997  276450      334 2019-04-26 21:18:35        670      Away\n999998  445334      334 2019-04-27 02:32:07        578      Away\n999999  124800      334 2019-04-26 16:53:13        854      Draw\n\n[1000000 rows x 5 columns]",
      "text/html": "<div>\n<style scoped>\n    .dataframe tbody tr th:only-of-type {\n        vertical-align: middle;\n    }\n\n    .dataframe tbody tr th {\n        vertical-align: top;\n    }\n\n    .dataframe thead th {\n        text-align: right;\n    }\n</style>\n<table border=\"1\" class=\"dataframe\">\n  <thead>\n    <tr style=\"text-align: right;\">\n      <th></th>\n      <th>UserId</th>\n      <th>MatchId</th>\n      <th>Datetime</th>\n      <th>BetAmount</th>\n      <th>Selection</th>\n    </tr>\n  </thead>\n  <tbody>\n    <tr>\n      <th>0</th>\n      <td>750373</td>\n      <td>65</td>\n      <td>2018-09-26 08:50:09</td>\n      <td>362</td>\n      <td>Away</td>\n    </tr>\n    <tr>\n      <th>1</th>\n      <td>471957</td>\n      <td>65</td>\n      <td>2018-09-23 15:11:58</td>\n      <td>385</td>\n      <td>Home</td>\n    </tr>\n    <tr>\n      <th>2</th>\n      <td>332842</td>\n      <td>65</td>\n      <td>2018-09-26 14:52:21</td>\n      <td>695</td>\n      <td>Home</td>\n    </tr>\n    <tr>\n      <th>3</th>\n      <td>508195</td>\n      <td>65</td>\n      <td>2018-09-22 06:17:37</td>\n      <td>994</td>\n      <td>Home</td>\n    </tr>\n    <tr>\n      <th>4</th>\n      <td>995122</td>\n      <td>65</td>\n      <td>2018-09-25 13:52:49</td>\n      <td>599</td>\n      <td>Home</td>\n    </tr>\n    <tr>\n      <th>...</th>\n      <td>...</td>\n      <td>...</td>\n      <td>...</td>\n      <td>...</td>\n      <td>...</td>\n    </tr>\n    <tr>\n      <th>999995</th>\n      <td>675271</td>\n      <td>334</td>\n      <td>2019-04-25 18:58:56</td>\n      <td>3</td>\n      <td>Draw</td>\n    </tr>\n    <tr>\n      <th>999996</th>\n      <td>43729</td>\n      <td>334</td>\n      <td>2019-04-24 09:16:31</td>\n      <td>179</td>\n      <td>Away</td>\n    </tr>\n    <tr>\n      <th>999997</th>\n      <td>276450</td>\n      <td>334</td>\n      <td>2019-04-26 21:18:35</td>\n      <td>670</td>\n      <td>Away</td>\n    </tr>\n    <tr>\n      <th>999998</th>\n      <td>445334</td>\n      <td>334</td>\n      <td>2019-04-27 02:32:07</td>\n      <td>578</td>\n      <td>Away</td>\n    </tr>\n    <tr>\n      <th>999999</th>\n      <td>124800</td>\n      <td>334</td>\n      <td>2019-04-26 16:53:13</td>\n      <td>854</td>\n      <td>Draw</td>\n    </tr>\n  </tbody>\n</table>\n<p>1000000 rows × 5 columns</p>\n</div>"
     },
     "execution_count": 250,
     "metadata": {},
     "output_type": "execute_result"
    }
   ],
   "source": [
    "interactions_df.drop(columns=\"MaxDatetime\")"
   ],
   "metadata": {
    "collapsed": false,
    "ExecuteTime": {
     "end_time": "2023-10-11T16:00:59.403037Z",
     "start_time": "2023-10-11T16:00:59.355105Z"
    }
   }
  },
  {
   "cell_type": "code",
   "execution_count": 254,
   "outputs": [],
   "source": [
    "items_df.columns = items_df.columns.str.upper()\n",
    "interactions_df.columns = interactions_df.columns.str.upper()\n",
    "\n",
    "items_df[\"DATETIME\"] = items_df[\"DATETIME\"].dt.tz_localize('UTC')\n",
    "interactions_df[\"DATETIME\"] = interactions_df[\"DATETIME\"].dt.tz_localize('UTC')"
   ],
   "metadata": {
    "collapsed": false,
    "ExecuteTime": {
     "end_time": "2023-10-11T16:02:00.807723Z",
     "start_time": "2023-10-11T16:02:00.758455Z"
    }
   }
  },
  {
   "cell_type": "code",
   "execution_count": 260,
   "outputs": [
    {
     "name": "stdout",
     "output_type": "stream",
     "text": [
      "Initiating login request with your identity provider. A browser window should have opened for you to complete the login. If you can't see it, check existing browser windows, or your OS settings. Press CTRL+C to abort and try again...\n",
      "Going to open: https://betclic.okta.com/app/snowflake/exk1ujdentUJZXPEK2p7/sso/saml?SAMLRequest=lZLdctowEIVfxaNe25KgNEEDZAiQKS1p3WA6LXdCXoiwLbn6waRPX2FCJ71IZnqnWZ0jfbtnBzfHqowOYKzUaohoQlAESuhcqt0QrbK7%2BBpF1nGV81IrGKInsOhmNLC8Kms29u5RPcAvD9ZF4SFlWXsxRN4oprmVlilegWVOsOX4fsE6CWG10U4LXaIXlrcd3FowLhBeLLmVAe%2FRuZph3DRN0nQTbXa4QwjBpI%2BD6iR5d9EfQ0%2Bv6Ckm70%2F6oAjy9JntVqrzCN7C2pxFln3MsjROvy4zFI0vqBOtrK%2FALMEcpIDVw%2BIMYAPB7SybLOaTBHzchNHFNLFKN9uSFyB0VXsXXk3CCW8hx6XeydD4fDpEdSFzUZDNdfcgZ2TFBfT3Wixkmh7oZl3A756ffvOT8X6fFYveT4Gi75dkO6dk59Z6mKtTni6USKcbUxJTmtEPjPRZt59c967WKJoGKKm4a50X6A04UUqR6MLxFo7XNf7LjeFYUL%2FPQbnVp%2FWPdPa5U19hazU%2BxYvOG8NaADP63zkM8Ev38%2FJ9CXnMp6kOTE%2FRnTYVd6%2FHRRPaVmQeb1spg4rLcpznBqwNsZWlbiYGuAs77owHhEfnX%2F%2Fd8tEf&RelayState=65395 to authenticate...\n"
     ]
    }
   ],
   "source": [
    "account_identifier = 'betclic.eu-west-1'\n",
    "user = 'psteffen'\n",
    "database_name = 'DATASCIENCE_DEV'\n",
    "schema_name = 'INOVAXION'\n",
    "authenticator = \"externalbrowser\"\n",
    "warehouse = 'WH_SCIENTIST'\n",
    "role = \"R_DS_DEV_WRITE\"\n",
    "\n",
    "conn_string = f\"snowflake://{user}@{account_identifier}/{database_name}/{schema_name}?warehouse={warehouse}&role={role}\"\n",
    "engine = create_engine(conn_string, connect_args={'authenticator': 'externalbrowser'})\n",
    "\n",
    "#Create your DataFrame\n",
    "\n",
    "table_name = 'items'\n",
    "\n",
    "#What to do if the table exists? replace, append, or fail?\n",
    "\n",
    "if_exists = 'replace'\n",
    "\n",
    "#Write the data to Snowflake, using pd_writer to speed up loading\n",
    "\n",
    "with engine.connect() as con:\n",
    "        items_df[SELECTED_FEATURES].to_sql(name='items', con=con, if_exists=if_exists, method=pd_writer, index=False)\n",
    "        interactions_df.drop(columns=\"MAXDATETIME\").to_sql(name='interactions', con=con, if_exists=if_exists, method=pd_writer, index=False)"
   ],
   "metadata": {
    "collapsed": false,
    "ExecuteTime": {
     "end_time": "2023-10-11T16:09:47.070020Z",
     "start_time": "2023-10-11T16:09:39.309570Z"
    }
   }
  },
  {
   "cell_type": "code",
   "execution_count": 259,
   "outputs": [
    {
     "data": {
      "text/plain": "     MATCHID DIV                  DATETIME             MATCHNAME  FTHG  FTAG  \\\n0          0  F1 2018-08-10 16:00:00+00:00  Marseille - Toulouse     4     0   \n1          1  F1 2018-08-11 21:00:00+00:00        Angers - Nimes     3     4   \n2          2  F1 2018-08-11 18:00:00+00:00        Lille - Rennes     3     1   \n3          3  F1 2018-08-11 18:00:00+00:00   Montpellier - Dijon     1     2   \n4          4  F1 2018-08-11 17:00:00+00:00       Nantes - Monaco     1     3   \n..       ...  ..                       ...                   ...   ...   ...   \n375      375  F1 2019-05-24 18:00:00+00:00   Nantes - Strasbourg     0     1   \n376      376  F1 2019-05-24 15:00:00+00:00         Nice - Monaco     2     0   \n377      377  F1 2019-05-24 15:00:00+00:00          Nimes - Lyon     2     3   \n378      378  F1 2019-05-24 15:00:00+00:00      Reims - Paris SG     3     1   \n379      379  F1 2019-05-24 19:00:00+00:00        Rennes - Lille     3     1   \n\n    FTR  B365H  B365A  B365D  \n0     H   1.40   8.00   4.50  \n1     A   2.30   3.30   3.20  \n2     H   2.50   3.10   3.10  \n3     A   1.72   5.50   3.50  \n4     A   3.20   2.30   3.25  \n..   ..    ...    ...    ...  \n375   A   1.65   5.50   3.80  \n376   H   3.10   2.25   3.50  \n377   A   3.40   2.00   3.80  \n378   H   6.50   1.45   5.00  \n379   H   2.62   2.50   3.60  \n\n[380 rows x 10 columns]",
      "text/html": "<div>\n<style scoped>\n    .dataframe tbody tr th:only-of-type {\n        vertical-align: middle;\n    }\n\n    .dataframe tbody tr th {\n        vertical-align: top;\n    }\n\n    .dataframe thead th {\n        text-align: right;\n    }\n</style>\n<table border=\"1\" class=\"dataframe\">\n  <thead>\n    <tr style=\"text-align: right;\">\n      <th></th>\n      <th>MATCHID</th>\n      <th>DIV</th>\n      <th>DATETIME</th>\n      <th>MATCHNAME</th>\n      <th>FTHG</th>\n      <th>FTAG</th>\n      <th>FTR</th>\n      <th>B365H</th>\n      <th>B365A</th>\n      <th>B365D</th>\n    </tr>\n  </thead>\n  <tbody>\n    <tr>\n      <th>0</th>\n      <td>0</td>\n      <td>F1</td>\n      <td>2018-08-10 16:00:00+00:00</td>\n      <td>Marseille - Toulouse</td>\n      <td>4</td>\n      <td>0</td>\n      <td>H</td>\n      <td>1.40</td>\n      <td>8.00</td>\n      <td>4.50</td>\n    </tr>\n    <tr>\n      <th>1</th>\n      <td>1</td>\n      <td>F1</td>\n      <td>2018-08-11 21:00:00+00:00</td>\n      <td>Angers - Nimes</td>\n      <td>3</td>\n      <td>4</td>\n      <td>A</td>\n      <td>2.30</td>\n      <td>3.30</td>\n      <td>3.20</td>\n    </tr>\n    <tr>\n      <th>2</th>\n      <td>2</td>\n      <td>F1</td>\n      <td>2018-08-11 18:00:00+00:00</td>\n      <td>Lille - Rennes</td>\n      <td>3</td>\n      <td>1</td>\n      <td>H</td>\n      <td>2.50</td>\n      <td>3.10</td>\n      <td>3.10</td>\n    </tr>\n    <tr>\n      <th>3</th>\n      <td>3</td>\n      <td>F1</td>\n      <td>2018-08-11 18:00:00+00:00</td>\n      <td>Montpellier - Dijon</td>\n      <td>1</td>\n      <td>2</td>\n      <td>A</td>\n      <td>1.72</td>\n      <td>5.50</td>\n      <td>3.50</td>\n    </tr>\n    <tr>\n      <th>4</th>\n      <td>4</td>\n      <td>F1</td>\n      <td>2018-08-11 17:00:00+00:00</td>\n      <td>Nantes - Monaco</td>\n      <td>1</td>\n      <td>3</td>\n      <td>A</td>\n      <td>3.20</td>\n      <td>2.30</td>\n      <td>3.25</td>\n    </tr>\n    <tr>\n      <th>...</th>\n      <td>...</td>\n      <td>...</td>\n      <td>...</td>\n      <td>...</td>\n      <td>...</td>\n      <td>...</td>\n      <td>...</td>\n      <td>...</td>\n      <td>...</td>\n      <td>...</td>\n    </tr>\n    <tr>\n      <th>375</th>\n      <td>375</td>\n      <td>F1</td>\n      <td>2019-05-24 18:00:00+00:00</td>\n      <td>Nantes - Strasbourg</td>\n      <td>0</td>\n      <td>1</td>\n      <td>A</td>\n      <td>1.65</td>\n      <td>5.50</td>\n      <td>3.80</td>\n    </tr>\n    <tr>\n      <th>376</th>\n      <td>376</td>\n      <td>F1</td>\n      <td>2019-05-24 15:00:00+00:00</td>\n      <td>Nice - Monaco</td>\n      <td>2</td>\n      <td>0</td>\n      <td>H</td>\n      <td>3.10</td>\n      <td>2.25</td>\n      <td>3.50</td>\n    </tr>\n    <tr>\n      <th>377</th>\n      <td>377</td>\n      <td>F1</td>\n      <td>2019-05-24 15:00:00+00:00</td>\n      <td>Nimes - Lyon</td>\n      <td>2</td>\n      <td>3</td>\n      <td>A</td>\n      <td>3.40</td>\n      <td>2.00</td>\n      <td>3.80</td>\n    </tr>\n    <tr>\n      <th>378</th>\n      <td>378</td>\n      <td>F1</td>\n      <td>2019-05-24 15:00:00+00:00</td>\n      <td>Reims - Paris SG</td>\n      <td>3</td>\n      <td>1</td>\n      <td>H</td>\n      <td>6.50</td>\n      <td>1.45</td>\n      <td>5.00</td>\n    </tr>\n    <tr>\n      <th>379</th>\n      <td>379</td>\n      <td>F1</td>\n      <td>2019-05-24 19:00:00+00:00</td>\n      <td>Rennes - Lille</td>\n      <td>3</td>\n      <td>1</td>\n      <td>H</td>\n      <td>2.62</td>\n      <td>2.50</td>\n      <td>3.60</td>\n    </tr>\n  </tbody>\n</table>\n<p>380 rows × 10 columns</p>\n</div>"
     },
     "execution_count": 259,
     "metadata": {},
     "output_type": "execute_result"
    }
   ],
   "source": [
    "items_df[SELECTED_FEATURES]"
   ],
   "metadata": {
    "collapsed": false,
    "ExecuteTime": {
     "end_time": "2023-10-11T16:09:21.943685Z",
     "start_time": "2023-10-11T16:09:21.885671Z"
    }
   }
  },
  {
   "cell_type": "code",
   "execution_count": 257,
   "outputs": [
    {
     "data": {
      "text/plain": "0        2018-09-26 08:50:09+00:00\n1        2018-09-23 15:11:58+00:00\n2        2018-09-26 14:52:21+00:00\n3        2018-09-22 06:17:37+00:00\n4        2018-09-25 13:52:49+00:00\n                    ...           \n999995   2019-04-25 18:58:56+00:00\n999996   2019-04-24 09:16:31+00:00\n999997   2019-04-26 21:18:35+00:00\n999998   2019-04-27 02:32:07+00:00\n999999   2019-04-26 16:53:13+00:00\nName: DATETIME, Length: 1000000, dtype: datetime64[ns, UTC]"
     },
     "execution_count": 257,
     "metadata": {},
     "output_type": "execute_result"
    }
   ],
   "source": [
    "interactions_df[\"DATETIME\"]"
   ],
   "metadata": {
    "collapsed": false,
    "ExecuteTime": {
     "end_time": "2023-10-11T16:05:40.683784Z",
     "start_time": "2023-10-11T16:05:40.626588Z"
    }
   }
  },
  {
   "cell_type": "code",
   "execution_count": 258,
   "outputs": [
    {
     "data": {
      "text/plain": "0     2018-08-10 16:00:00+00:00\n1     2018-08-11 21:00:00+00:00\n2     2018-08-11 18:00:00+00:00\n3     2018-08-11 18:00:00+00:00\n4     2018-08-11 17:00:00+00:00\n                 ...           \n375   2019-05-24 18:00:00+00:00\n376   2019-05-24 15:00:00+00:00\n377   2019-05-24 15:00:00+00:00\n378   2019-05-24 15:00:00+00:00\n379   2019-05-24 19:00:00+00:00\nName: DATETIME, Length: 380, dtype: datetime64[ns, UTC]"
     },
     "execution_count": 258,
     "metadata": {},
     "output_type": "execute_result"
    }
   ],
   "source": [
    "items_df[\"DATETIME\"]"
   ],
   "metadata": {
    "collapsed": false,
    "ExecuteTime": {
     "end_time": "2023-10-11T16:05:49.744822Z",
     "start_time": "2023-10-11T16:05:49.742097Z"
    }
   }
  },
  {
   "cell_type": "code",
   "execution_count": 263,
   "outputs": [],
   "source": [
    "items_df[SELECTED_FEATURES].to_csv(\"items.csv\")\n",
    "interactions_df.drop(columns=\"MAXDATETIME\").to_csv(\"interactions.csv\")"
   ],
   "metadata": {
    "collapsed": false,
    "ExecuteTime": {
     "end_time": "2023-10-12T09:10:54.192360Z",
     "start_time": "2023-10-12T09:10:48.850706Z"
    }
   }
  },
  {
   "cell_type": "code",
   "execution_count": 176,
   "outputs": [
    {
     "data": {
      "text/plain": "Index(['matchid', 'div', 'datetime', 'matchname', 'fthg', 'ftag', 'ftr',\n       'b365h', 'b365a', 'b365d'],\n      dtype='object')"
     },
     "execution_count": 176,
     "metadata": {},
     "output_type": "execute_result"
    }
   ],
   "source": [
    "items_df[SELECTED_FEATURES].columns.str.lower()"
   ],
   "metadata": {
    "collapsed": false,
    "ExecuteTime": {
     "end_time": "2023-10-11T15:29:12.487388Z",
     "start_time": "2023-10-11T15:29:12.485079Z"
    }
   }
  },
  {
   "cell_type": "code",
   "execution_count": null,
   "outputs": [],
   "source": [],
   "metadata": {
    "collapsed": false
   }
  }
 ],
 "metadata": {
  "kernelspec": {
   "display_name": "Python 3",
   "language": "python",
   "name": "python3"
  },
  "language_info": {
   "codemirror_mode": {
    "name": "ipython",
    "version": 2
   },
   "file_extension": ".py",
   "mimetype": "text/x-python",
   "name": "python",
   "nbconvert_exporter": "python",
   "pygments_lexer": "ipython2",
   "version": "2.7.6"
  }
 },
 "nbformat": 4,
 "nbformat_minor": 0
}
